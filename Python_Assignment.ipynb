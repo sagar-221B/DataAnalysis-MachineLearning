{
  "nbformat": 4,
  "nbformat_minor": 0,
  "metadata": {
    "kernelspec": {
      "display_name": "Python 3",
      "language": "python",
      "name": "python3"
    },
    "language_info": {
      "codemirror_mode": {
        "name": "ipython",
        "version": 3
      },
      "file_extension": ".py",
      "mimetype": "text/x-python",
      "name": "python",
      "nbconvert_exporter": "python",
      "pygments_lexer": "ipython3",
      "version": "3.6.8"
    },
    "colab": {
      "name": "1.Python Mandatory Assignment.ipynb",
      "provenance": [],
      "collapsed_sections": []
    }
  },
  "cells": [
    {
      "cell_type": "markdown",
      "metadata": {
        "id": "l0ZzOlyxB-kf",
        "colab_type": "text"
      },
      "source": [
        "<h1>Python: without numpy or sklearn </h1>"
      ]
    },
    {
      "cell_type": "markdown",
      "metadata": {
        "id": "C0xO8JV9B-ki",
        "colab_type": "text"
      },
      "source": [
        "<h3> Q1: Given two matrices please print the product of those two matrices </h3>\n",
        "<pre>\n",
        "\n",
        "Ex 1: A   = [[1 3 4]\n",
        "             [2 5 7]\n",
        "             [5 9 6]]\n",
        "      B   = [[1 0 0]\n",
        "             [0 1 0]\n",
        "             [0 0 1]]\n",
        "      A*B = [[1 3 4]\n",
        "             [2 5 7]\n",
        "             [5 9 6]]\n",
        "\n",
        "     \n",
        "Ex 2: A   = [[1 2]\n",
        "             [3 4]]\n",
        "      B   = [[1 2 3 4 5]\n",
        "             [5 6 7 8 9]]\n",
        "      A*B = [[11 14 17 20 23]\n",
        "             [18 24 30 36 42]]\n",
        "             \n",
        "Ex 3: A   = [[1 2]\n",
        "             [3 4]]\n",
        "      B   = [[1 4]\n",
        "             [5 6]\n",
        "             [7 8]\n",
        "             [9 6]]\n",
        "      A*B =Not possible\n",
        "</pre>"
      ]
    },
    {
      "cell_type": "code",
      "metadata": {
        "id": "rnssAfpgB-kj",
        "colab_type": "code",
        "colab": {
          "base_uri": "https://localhost:8080/",
          "height": 34
        },
        "outputId": "ab40f9a9-7307-4aa7-add7-df92ff1c4d8e"
      },
      "source": [
        "\n",
        "\n",
        "def matrix_mul(A, B):\n",
        "    '''\n",
        "       This function multiplies two matrix and returns the result.\n",
        "    '''\n",
        "    # write your code\n",
        "\n",
        "    x=len(B[0])\n",
        "\n",
        "    for e in B:\n",
        "        if x==len(e): #checks if all the rows of B are of same length\n",
        "            continue\n",
        "        else:\n",
        "            print(\"**Matrix multiplication not possible\")\n",
        "            return\n",
        "\n",
        "    row_B=len(B)\n",
        "    \n",
        "    for y in A:\n",
        "        if len(y)!=row_B: #checks if no of column of A is equal to no of rows in B\n",
        "            print(\"Matrxi multiplication not possible\")\n",
        "            return\n",
        "        else:\n",
        "            continue\n",
        "\n",
        "    final_list=[]\n",
        "    for ele_A in A:\n",
        "        l=[]\n",
        "        for j in range(len(B[0])):\n",
        "            \n",
        "            Sum=0\n",
        "            for i in range(row_B):\n",
        "                Sum+=ele_A[i]*(B[i])[j]\n",
        "            l.append(Sum)\n",
        "        final_list.append(l)   \n",
        "    return(final_list)\n",
        "\n",
        "#A   = [[1, 2] ,[3,4]]\n",
        "#B   = [[1,2,3,4,5],[5,6,7,8,9]] \n",
        "\n",
        "A   = [[1,3,4],[2,5,7],[5,9,6]]\n",
        "B   = [[1,0,0],[0,1,0], [0,0,1]]\n",
        "print(\"Matrix[A]*Matrix[B]  =\",matrix_mul(A, B))\n",
        "\n",
        "\n"
      ],
      "execution_count": 9,
      "outputs": [
        {
          "output_type": "stream",
          "text": [
            "Matrix[A]*Matrix[B]  = [[1, 3, 4], [2, 5, 7], [5, 9, 6]]\n"
          ],
          "name": "stdout"
        }
      ]
    },
    {
      "cell_type": "markdown",
      "metadata": {
        "id": "at4VwLggB-kn",
        "colab_type": "text"
      },
      "source": [
        "<h3> Q2: Select a number randomly with probability proportional to its magnitude from the given array of n elements</h3>\n",
        "\n",
        "consider an experiment, selecting an element from the list A randomly with probability proportional to its magnitude.\n",
        "assume we are doing the same experiment for 100 times with replacement, in each experiment you will print a number that is selected randomly from A.\n",
        "\n",
        "<pre>\n",
        "Ex 1: A = [0 5 27 6 13 28 100 45 10 79]\n",
        "let f(x) denote the number of times x getting selected in 100 experiments.\n",
        "f(100) > f(79) > f(45) > f(28) > f(27) > f(13) > f(10) > f(6) > f(5) > f(0)\n",
        "</pre>"
      ]
    },
    {
      "cell_type": "code",
      "metadata": {
        "id": "Ag4agQmYuJeR",
        "colab_type": "code",
        "colab": {
          "base_uri": "https://localhost:8080/",
          "height": 1000
        },
        "outputId": "5253c645-eefc-40ef-ec13-dfab22c9984f"
      },
      "source": [
        "from random import uniform\n",
        "\n",
        "\n",
        "def pick_a_number_from_list(A):\n",
        "    \n",
        "    Sum=0\n",
        "    for i in A:\n",
        "        Sum+=i\n",
        "    #print(Sum)\n",
        "    ls_dash=[]\n",
        "    for e in A:\n",
        "        ls_dash.append(e/Sum)\n",
        "    \n",
        "    ls_tilda={}\n",
        "    for i in range(0,len(ls_dash)):\n",
        "        if i!=0:\n",
        "            ls_tilda[A[i]]=ls_dash[i]+ls_tilda[A[i-1]]\n",
        "        else:\n",
        "          ls_tilda[A[i]]=ls_dash[i]\n",
        "\n",
        "    r=uniform(0,1)\n",
        "    \n",
        "    for el in ls_tilda:\n",
        "        if r<ls_tilda[el]:\n",
        "            return el\n",
        "\n",
        "def sampling_based_on_magnitued():\n",
        "    '''\n",
        "        Added the count of occurence of each number for the given input\n",
        "        Please modify or comment print statements for different array input\n",
        "    '''\n",
        "    l=[]\n",
        "    for i in range(1,100):\n",
        "        number = pick_a_number_from_list([0,5,27,6,13,28,100,45,10,79])\n",
        "        l.append(number)\n",
        "        print(number)\n",
        "\n",
        "    print(\"0 =\",l.count(0))\n",
        "    print(\"5 =\",l.count(5))\n",
        "    print(\"27 =\",l.count(27))\n",
        "    print(\"6 =\",l.count(6))\n",
        "    print(\"13 =\",l.count(13))\n",
        "    print(\"28 =\",l.count(28))\n",
        "    print(\"100 =\",l.count(100))\n",
        "    print(\"45 =\",l.count(45))\n",
        "    print(\"10 =\",l.count(10))\n",
        "    print(\"79 =\",l.count(79))\n",
        "\n",
        "sampling_based_on_magnitued()"
      ],
      "execution_count": 10,
      "outputs": [
        {
          "output_type": "stream",
          "text": [
            "100\n",
            "13\n",
            "27\n",
            "45\n",
            "27\n",
            "100\n",
            "28\n",
            "10\n",
            "13\n",
            "28\n",
            "27\n",
            "45\n",
            "79\n",
            "79\n",
            "100\n",
            "45\n",
            "13\n",
            "79\n",
            "28\n",
            "100\n",
            "79\n",
            "79\n",
            "79\n",
            "79\n",
            "79\n",
            "27\n",
            "45\n",
            "79\n",
            "45\n",
            "100\n",
            "79\n",
            "10\n",
            "100\n",
            "45\n",
            "100\n",
            "79\n",
            "100\n",
            "28\n",
            "79\n",
            "79\n",
            "27\n",
            "79\n",
            "28\n",
            "28\n",
            "27\n",
            "28\n",
            "79\n",
            "100\n",
            "79\n",
            "45\n",
            "13\n",
            "100\n",
            "100\n",
            "100\n",
            "5\n",
            "28\n",
            "13\n",
            "100\n",
            "5\n",
            "100\n",
            "100\n",
            "45\n",
            "79\n",
            "79\n",
            "100\n",
            "79\n",
            "27\n",
            "79\n",
            "28\n",
            "79\n",
            "45\n",
            "100\n",
            "27\n",
            "100\n",
            "28\n",
            "45\n",
            "100\n",
            "100\n",
            "100\n",
            "27\n",
            "100\n",
            "100\n",
            "45\n",
            "79\n",
            "79\n",
            "79\n",
            "100\n",
            "45\n",
            "45\n",
            "10\n",
            "6\n",
            "79\n",
            "100\n",
            "79\n",
            "100\n",
            "28\n",
            "27\n",
            "79\n",
            "28\n",
            "0 = 0\n",
            "5 = 2\n",
            "27 = 10\n",
            "6 = 1\n",
            "13 = 5\n",
            "28 = 12\n",
            "100 = 26\n",
            "45 = 13\n",
            "10 = 3\n",
            "79 = 27\n"
          ],
          "name": "stdout"
        }
      ]
    },
    {
      "cell_type": "markdown",
      "metadata": {
        "id": "D1xQy2WWB-kq",
        "colab_type": "text"
      },
      "source": [
        "<h3> Q3: Replace the digits in the string with #</h3>\n",
        "\n",
        "consider a string that will have digits in that, we need to remove all the not digits and replace the digits with #\n",
        "<pre>\n",
        "Ex 1: A = 234                Output: ###\n",
        "Ex 2: A = a2b3c4             Output: ###\n",
        "Ex 3: A = abc                Output:   (empty string)\n",
        "Ex 5: A = #2a$#b%c%561#      Output: ####\n",
        "</pre>"
      ]
    },
    {
      "cell_type": "code",
      "metadata": {
        "id": "fxczi2jzB-kr",
        "colab_type": "code",
        "colab": {
          "base_uri": "https://localhost:8080/",
          "height": 35
        },
        "outputId": "4a0bb0af-741f-46da-b9d8-76db42097d17"
      },
      "source": [
        "\n",
        "def replace_digits(p):\n",
        "    q=\"\"\n",
        "    for e in p:\n",
        "  \n",
        "        if (ord(e)>=48 and ord(e)<=57):\n",
        "            q+=\"#\"\n",
        "\n",
        "    return(q) \n",
        "\n",
        "replace_digits(\"#2a$#b%c%561#\")"
      ],
      "execution_count": 11,
      "outputs": [
        {
          "output_type": "execute_result",
          "data": {
            "application/vnd.google.colaboratory.intrinsic": {
              "type": "string"
            },
            "text/plain": [
              "'####'"
            ]
          },
          "metadata": {
            "tags": []
          },
          "execution_count": 11
        }
      ]
    },
    {
      "cell_type": "markdown",
      "metadata": {
        "id": "j7h0Ywg7B-kw",
        "colab_type": "text"
      },
      "source": [
        "<h3> Q4: Students marks dashboard</h3>\n",
        "\n",
        "consider the marks list of class students given two lists <br>\n",
        "Students = ['student1','student2','student3','student4','student5','student6','student7','student8','student9','student10'] <br>\n",
        "Marks = [45, 78, 12, 14, 48, 43, 45, 98, 35, 80] <br>\n",
        "from the above two lists the Student[0] got Marks[0],  Student[1] got Marks[1] and so on <br><br>\n",
        "your task is to print the name of students\n",
        "<strong>a. Who got top 5 ranks, in the descending order of marks</strong> <br>\n",
        "<strong>b. Who got least 5 ranks, in the increasing order of marks</strong><br>\n",
        "<strong>d. Who got marks between  &gt;25th percentile &lt;75th percentile, in the increasing order of marks</strong>\n",
        "\n",
        "<pre>\n",
        "Ex 1: \n",
        "Students=['student1','student2','student3','student4','student5','student6','student7','student8','student9','student10'] \n",
        "Marks = [45, 78, 12, 14, 48, 43, 47, 98, 35, 80]\n",
        "a. \n",
        "student8  98\n",
        "student10 80\n",
        "student2  78\n",
        "student5  48\n",
        "student7  47\n",
        "b.\n",
        "student3 12\n",
        "student4 14\n",
        "student9 35\n",
        "student6 43\n",
        "student1 45\n",
        "c.\n",
        "student9 35\n",
        "student6 43\n",
        "student1 45\n",
        "student7 47\n",
        "student5 48\n",
        "</pre>"
      ]
    },
    {
      "cell_type": "code",
      "metadata": {
        "id": "q9RcI8Ihvm8A",
        "colab_type": "code",
        "colab": {
          "base_uri": "https://localhost:8080/",
          "height": 68
        },
        "outputId": "2e2674b8-02a1-4599-b37a-323b5136e73e"
      },
      "source": [
        "\n",
        "def display_dash_board(students, marks):\n",
        "\n",
        "    my_dict={}\n",
        "    for i in range(0,len(marks)):\n",
        "        my_dict[students[i]]=marks[i] #mapping students and marks inot a dictionary\n",
        "\n",
        "\n",
        "    sorted_top={k: v for k, v in sorted(my_dict.items(),key=lambda x:x[1], reverse=True)}#dictionary sorting descending order\n",
        "    top_5_students=list(sorted_top.items())[:5] #top 5 students\n",
        "\n",
        "    \n",
        "    my_dict={k: v for k, v in sorted(sorted_top.items(),key=lambda x:x[1])}#dictionary sorting ascending order\n",
        "    q=list(my_dict.items())\n",
        "    least_5_students=list(my_dict.items())[:5]\n",
        "\n",
        "\n",
        "   #d=len(q)-1\n",
        "\n",
        "    x=25/100 #change this value for different percentile range\n",
        "    y=75/100 #change this value for different percentile range\n",
        "    min_marks=q[0][1]\n",
        "    max_marks=q[len(q)-1][1]\n",
        "    diff=max_marks-min_marks\n",
        "\n",
        "    # calulating percentile position for xPercentile\n",
        "\n",
        "    xPercentile=x*diff\n",
        "    yPercentile=y*diff\n",
        "    \n",
        "   \n",
        "    students_within_25_and_75=[]\n",
        "    for element in q:\n",
        "        if element[1]>xPercentile and element[1]<yPercentile:\n",
        "            students_within_25_and_75.append(element)\n",
        "    \n",
        "    return top_5_students,least_5_students,students_within_25_and_75\n",
        "    #print(\"25-75\",students_within_25_and_75)\n",
        "\n",
        "\n",
        "students=['student1','student2','student3','student4','student5','student6','student7','student8','student9','student10']\n",
        "marks=[45, 78, 12, 14, 48, 43, 47, 98, 35, 80]\n",
        "\n",
        "top_5_students, least_5_students, students_within_25_and_75=display_dash_board(students, marks)\n",
        "\n",
        "print(\" Top 5 students   \",top_5_students,\"\\n\",\"Least 5 students \", least_5_students,\"\\n\",\"Students within 25 and 75 percentile\", students_within_25_and_75)\n",
        "\n",
        "\n",
        "\n"
      ],
      "execution_count": 19,
      "outputs": [
        {
          "output_type": "stream",
          "text": [
            " Top 5 students    [('student8', 98), ('student10', 80), ('student2', 78), ('student5', 48), ('student7', 47)] \n",
            " Least 5 students  [('student3', 12), ('student4', 14), ('student9', 35), ('student6', 43), ('student1', 45)] \n",
            " Students within 25 and 75 percentile [('student9', 35), ('student6', 43), ('student1', 45), ('student7', 47), ('student5', 48)]\n"
          ],
          "name": "stdout"
        }
      ]
    },
    {
      "cell_type": "markdown",
      "metadata": {
        "id": "qha0OhQHB-k1",
        "colab_type": "text"
      },
      "source": [
        "<h3> Q5: Find the closest points</h3>\n",
        "\n",
        "consider you have given n data points in the form of list of tuples like S=[(x1,y1),(x2,y2),(x3,y3),(x4,y4),(x5,y5),..,(xn,yn)] and a point P=(p,q) <br> your task is to find 5 closest points(based on cosine distance) in S from P\n",
        "<br>cosine distance between two points (x,y) and (p,q) is defind as $cos^{-1}(\\frac{(x\\cdot p+y\\cdot q)}{\\sqrt(x^2+y^2)\\cdot\\sqrt(p^2+q^2)})$\n",
        "<pre>\n",
        "Ex:\n",
        "\n",
        "S= [(1,2),(3,4),(-1,1),(6,-7),(0, 6),(-5,-8),(-1,-1)(6,0),(1,-1)]\n",
        "P= (3,-4)\n",
        "<img src='https://i.imgur.com/vIFPOcG.jpg', width=300>\n",
        "Output:\n",
        "(6,-7)\n",
        "(1,-1)\n",
        "(6,0)\n",
        "(-5,-8)\n",
        "(-1,-1)\n",
        "</pre>"
      ]
    },
    {
      "cell_type": "code",
      "metadata": {
        "id": "wA5I1g-2B-k2",
        "colab_type": "code",
        "colab": {
          "base_uri": "https://localhost:8080/",
          "height": 34
        },
        "outputId": "de8ffdd3-55f6-405f-986f-5bde9a884f7f"
      },
      "source": [
        "import math\n",
        "\n",
        "# write your python code here\n",
        "# you can take the above example as sample input for your program to test\n",
        "# it should work for any general input try not to hard code for only given input examples\n",
        "# you can free to change all these codes/structure\n",
        "\n",
        "\n",
        "# here S is list of tuples and P is a tuple ot len=2\n",
        "def closest_points_to_p(S, P):\n",
        "\n",
        "    l=[]\n",
        "    for e in S:\n",
        "        l.append(math.acos((e[0]*P[0]+e[1]*P[1])/((math.sqrt(math.pow(e[0],2)+math.pow(e[1],2))) *(math.sqrt(math.pow(P[0],2)+math.pow(P[1],2)))) ))\n",
        "\n",
        "    closest_points_to_p=[]\n",
        "    for q in zip(S,l):\n",
        "        closest_points_to_p.append(q)\n",
        "\n",
        "    closest_points_to_p.sort(key=lambda x:x[1])\n",
        "    \n",
        "    j=[]\n",
        "    for e in closest_points_to_p:\n",
        "        j.append(e[0])\n",
        "        \n",
        "    \n",
        "    \n",
        "    return j[:5]  # its list of tuples\n",
        "\n",
        "S= [(1,2),(3,4),(-1,1),(6,-7),(0, 6),(-5,-8),(-1,-1),(6,0),(1,-1)]\n",
        "P= (3,-4)\n",
        "points = closest_points_to_p(S, P)\n",
        "print(points) #print the returned values"
      ],
      "execution_count": 13,
      "outputs": [
        {
          "output_type": "stream",
          "text": [
            "[(6, -7), (1, -1), (6, 0), (-5, -8), (-1, -1)]\n"
          ],
          "name": "stdout"
        }
      ]
    },
    {
      "cell_type": "markdown",
      "metadata": {
        "id": "-g11jeAiB-k5",
        "colab_type": "text"
      },
      "source": [
        "<h3> Q6: Find Which line separates oranges and apples</h3>\n",
        "consider you have given two set of data points in the form of list of tuples like \n",
        "<pre>\n",
        "Red =[(R11,R12),(R21,R22),(R31,R32),(R41,R42),(R51,R52),..,(Rn1,Rn2)]\n",
        "Blue=[(B11,B12),(B21,B22),(B31,B32),(B41,B42),(B51,B52),..,(Bm1,Bm2)]\n",
        "</pre>\n",
        "and set of line equations(in the string formate, i.e list of strings)\n",
        "<pre>\n",
        "Lines = [a1x+b1y+c1,a2x+b2y+c2,a3x+b3y+c3,a4x+b4y+c4,..,K lines]\n",
        "Note: you need to string parsing here and get the coefficients of x,y and intercept\n",
        "</pre>\n",
        "your task is to for each line that is given print \"YES\"/\"NO\", you will print yes, if all the red points are one side of the line and blue points are other side of the line, otherwise no\n",
        "<pre>\n",
        "Ex:\n",
        "Red= [(1,1),(2,1),(4,2),(2,4), (-1,4)]\n",
        "Blue= [(-2,-1),(-1,-2),(-3,-2),(-3,-1),(1,-3)]\n",
        "Lines=[\"1x+1y+0\",\"1x-1y+0\",\"1x+0y-3\",\"0x+1y-0.5\"]\n",
        "<img src='https://i.imgur.com/DoQf7mE.jpg' width=400>\n",
        "Output:\n",
        "YES\n",
        "NO\n",
        "NO\n",
        "YES\n",
        "</pre>"
      ]
    },
    {
      "cell_type": "code",
      "metadata": {
        "id": "eRxExaTRB-k6",
        "colab_type": "code",
        "colab": {
          "base_uri": "https://localhost:8080/",
          "height": 85
        },
        "outputId": "93f9b67f-2815-4db7-c25f-68ff69abf776"
      },
      "source": [
        "import math\n",
        "import re\n",
        "\n",
        "\n",
        "def i_am_the_one(red,blue,line):\n",
        "    \n",
        "    j=[]\n",
        "    q=re.split('[x|y]', line)\n",
        "    #print(q)\n",
        "    for e in q:\n",
        "        j.append(float(e))\n",
        "    #print(j)\n",
        "    \n",
        "    li_red_pos=[]\n",
        "    li_red_neg=[]\n",
        "    for el in red:\n",
        "        temp=j[0]*el[0]+j[1]*el[1]+j[2]\n",
        "        #print(temp)\n",
        "        if temp>0:\n",
        "            li_red_pos.append(el)\n",
        "        elif temp<0:\n",
        "            li_red_neg.append(el)\n",
        "        else:\n",
        "            return \"No\"\n",
        "    if (len(red)!=len(li_red_pos) and len(red)!=len(li_red_neg) ):\n",
        "        return \"No\"\n",
        "    else:\n",
        "        if len(red)==len(li_red_pos):\n",
        "            r_sign=\"+ve\"\n",
        "        else:\n",
        "            r_sign=\"-ve\"\n",
        "    \n",
        "    li_blue_pos=[]\n",
        "    li_blue_neg=[]\n",
        "    for el in blue:\n",
        "        temp=j[0]*el[0]+j[1]*el[1]+j[2]\n",
        "        #print(temp)\n",
        "        if temp>0:\n",
        "            li_blue_pos.append(el)\n",
        "        elif temp<0:\n",
        "            li_blue_neg.append(el)\n",
        "        else:\n",
        "            return \"No\"\n",
        "    if (len(blue)!=len(li_blue_pos) and len(blue)!=len(li_blue_neg) ):\n",
        "        return \"No\" \n",
        "\n",
        "    else:\n",
        "        if len(blue)==len(li_blue_pos):\n",
        "            b_sign=\"+ve\"\n",
        "        else:\n",
        "            b_sign=\"-ve\"\n",
        "\n",
        "    if r_sign!=b_sign:\n",
        "        return \"Yes\"\n",
        "    else:\n",
        "        return \"No\"\n",
        "        \n",
        "    \n",
        "\n",
        "Red= [(1,1),(2,1),(4,2),(2,4), (-1,4)]\n",
        "Blue= [(-2,-1),(-1,-2),(-3,-2),(-3,-1),(1,-3)]\n",
        "Lines=[\"1x+1y+0\",\"1x-1y+0\",\"1x+0y-3\",\"0x+1y-0.5\"]\n",
        "\n",
        "for i in Lines:\n",
        "    yes_or_no = i_am_the_one(Red, Blue, i)\n",
        "    print(yes_or_no) # the returned value"
      ],
      "execution_count": 14,
      "outputs": [
        {
          "output_type": "stream",
          "text": [
            "Yes\n",
            "No\n",
            "No\n",
            "Yes\n"
          ],
          "name": "stdout"
        }
      ]
    },
    {
      "cell_type": "markdown",
      "metadata": {
        "id": "9OBpURbNB-k9",
        "colab_type": "text"
      },
      "source": [
        "<h3> Q7: Filling the missing values in the specified formate</h3>\n",
        "You will be given a string with digits and '\\_'(missing value) symbols you have to replace the '\\_' symbols as explained \n",
        "<pre>\n",
        "Ex 1: _, _, _, 24 ==> 24/4, 24/4, 24/4, 24/4 i.e we. have distributed the 24 equally to all 4 places <br>\n",
        "Ex 2: 40, _, _, _, 60 ==> (60+40)/5,(60+40)/5,(60+40)/5,(60+40)/5,(60+40)/5 ==> 20, 20, 20, 20, 20 i.e. the sum of (60+40) is distributed qually to all 5 places<br>\n",
        "Ex 3: 80, _, _, _, _  ==> 80/5,80/5,80/5,80/5,80/5 ==> 16, 16, 16, 16, 16 i.e. the 80 is distributed qually to all 5 missing values that are right to it<br>\n",
        "Ex 4: _, _, 30, _, _, _, 50, _, _  \n",
        "==> we will fill the missing values from left to right \n",
        "    a. first we will distribute the 30 to left two missing values (10, 10, 10, _, _, _, 50, _, _)\n",
        "    b. now distribute the sum (10+50) missing values in between (10, 10, 12, 12, 12, 12, 12, _, _) \n",
        "    c. now we will distribute 12 to right side missing values (10, 10, 12, 12, 12, 12, 4, 4, 4)\n",
        "</pre>\n",
        "for a given string with comma seprate values, which will have both missing values numbers like ex: \"_, _, x, _, _, _\"\n",
        "you need fill the missing values\n",
        "\n",
        "Q: your program reads a string like ex: \"_, _, x, _, _, _\" and returns the filled sequence\n",
        "\n",
        "Ex: \n",
        "<pre>\n",
        "Input1: \"_,_,_,24\"\n",
        "Output1: 6,6,6,6\n",
        "\n",
        "Input2: \"40,_,_,_,60\"\n",
        "Output2: 20,20,20,20,20\n",
        "\n",
        "Input3: \"80,_,_,_,_\"\n",
        "Output3: 16,16,16,16,16\n",
        "\n",
        "Input4: \"_,_,30,_,_,_,50,_,_\"\n",
        "Output4: 10,10,12,12,12,12,4,4,4\n",
        "</pre>\n",
        "\n"
      ]
    },
    {
      "cell_type": "code",
      "metadata": {
        "id": "axpApR68RS-W",
        "colab_type": "code",
        "colab": {
          "base_uri": "https://localhost:8080/",
          "height": 85
        },
        "outputId": "b6fb5a50-9c5d-402b-bcf8-0ad34c13d3a1"
      },
      "source": [
        "def curve_smoothing(S):\n",
        "    \n",
        "    n1=0\n",
        "    n2=0\n",
        "    x=0\n",
        "    y=0\n",
        "    numexist=0\n",
        "    li=S.split(',')\n",
        "    \n",
        "    while '_' in li:\n",
        "        count=0\n",
        "        for i in range(x,len(li)):\n",
        "            count+=1\n",
        "            if li[i]!='_':\n",
        "                n2=li[i]\n",
        "                if numexist >0:\n",
        "                    count+=1    \n",
        "                temp=(n1+int(n2))/count\n",
        "                \n",
        "                for e in range(y,i+1):\n",
        "                    li[e]=int(temp)\n",
        "                    x=i+1\n",
        "                    y=i\n",
        "                    n1=temp\n",
        "                    numexist+=1\n",
        "                break\n",
        "            elif li[i]=='_' and i==(len(li)-1):\n",
        "                \n",
        "                c=n1/(count+1)\n",
        "                \n",
        "                for j in range(y,i+1):\n",
        "                    li[j]=int(c)\n",
        "                \n",
        "                break\n",
        "    \n",
        "    \n",
        "    return li\n",
        "\n",
        "S=[\"_,_,_,24\",\"40,_,_,_,60\",\"80,_,_,_,_\",\"_,_,30,_,_,_,50,_,_\"]\n",
        "\n",
        "for e in S:\n",
        "    smoothed_values= curve_smoothing(e)\n",
        "    print(smoothed_values)"
      ],
      "execution_count": 15,
      "outputs": [
        {
          "output_type": "stream",
          "text": [
            "[6, 6, 6, 6]\n",
            "[20, 20, 20, 20, 20]\n",
            "[16, 16, 16, 16, 16]\n",
            "[10, 10, 12, 12, 12, 12, 4, 4, 4]\n"
          ],
          "name": "stdout"
        }
      ]
    },
    {
      "cell_type": "markdown",
      "metadata": {
        "id": "RBz4pzlfB-lB",
        "colab_type": "text"
      },
      "source": [
        "<h3> Q8: Filling the missing values in the specified formate</h3>\n",
        "You will be given a list of lists, each sublist will be of length 2 i.e. [[x,y],[p,q],[l,m]..[r,s]]\n",
        "consider its like a martrix of n rows and two columns\n",
        "1. the first column F will contain only 5 uniques values (F1, F2, F3, F4, F5)\n",
        "2. the second column S will contain only 3 uniques values (S1, S2, S3)\n",
        "<pre>\n",
        "your task is to find\n",
        "a. Probability of P(F=F1|S==S1), P(F=F1|S==S2), P(F=F1|S==S3)\n",
        "b. Probability of P(F=F2|S==S1), P(F=F2|S==S2), P(F=F2|S==S3)\n",
        "c. Probability of P(F=F3|S==S1), P(F=F3|S==S2), P(F=F3|S==S3)\n",
        "d. Probability of P(F=F4|S==S1), P(F=F4|S==S2), P(F=F4|S==S3)\n",
        "e. Probability of P(F=F5|S==S1), P(F=F5|S==S2), P(F=F5|S==S3)\n",
        "</pre>\n",
        "Ex:\n",
        "\n",
        "<pre>\n",
        "[[F1,S1],[F2,S2],[F3,S3],[F1,S2],[F2,S3],[F3,S2],[F2,S1],[F4,S1],[F4,S3],[F5,S1]]\n",
        "\n",
        "a. P(F=F1|S==S1)=1/4, P(F=F1|S==S2)=1/3, P(F=F1|S==S3)=0/3\n",
        "b. P(F=F2|S==S1)=1/4, P(F=F2|S==S2)=1/3, P(F=F2|S==S3)=1/3\n",
        "c. P(F=F3|S==S1)=0/4, P(F=F3|S==S2)=1/3, P(F=F3|S==S3)=1/3\n",
        "d. P(F=F4|S==S1)=1/4, P(F=F4|S==S2)=0/3, P(F=F4|S==S3)=1/3\n",
        "e. P(F=F5|S==S1)=1/4, P(F=F5|S==S2)=0/3, P(F=F5|S==S3)=0/3\n",
        "</pre>\n",
        "\n",
        "\n"
      ]
    },
    {
      "cell_type": "code",
      "metadata": {
        "id": "e-1giz1MB-lC",
        "colab_type": "code",
        "colab": {
          "base_uri": "https://localhost:8080/",
          "height": 340
        },
        "outputId": "ba161e5f-6e35-433d-ca14-6eb38bbac232"
      },
      "source": [
        "\n",
        "def compute_conditional_probabilites(A,F,S):\n",
        "    count_S=0\n",
        "    count_F=0\n",
        "    for e in A:\n",
        "        if e[1]==S:\n",
        "            count_S+=1\n",
        "        if e[0]==F and e[1]==S:\n",
        "            count_F+=1\n",
        "\n",
        "    return str(count_F)+\"/\"+str(count_S)\n",
        "   \n",
        "\n",
        "A = [['F1','S1'],['F2','S2'],['F3','S3'],['F1','S2'],['F2','S3'],['F3','S2'],['F2','S1'],['F4','S1'],['F4','S3'],['F5','S1']]\n",
        "\n",
        "print(\"P(F=F1|S==S1) \",compute_conditional_probabilites(A,\"F1\",\"S1\"))\n",
        "print(\"P(F=F1|S==S2) \",compute_conditional_probabilites(A,\"F1\",\"S2\"))\n",
        "print(\"P(F=F1|S==S3) \",compute_conditional_probabilites(A,\"F1\",\"S3\"))\n",
        "\n",
        "print(\"=\"*25)\n",
        "\n",
        "print(\"P(F=F2|S==S1) \",compute_conditional_probabilites(A,\"F2\",\"S1\"))\n",
        "print(\"P(F=F2|S==S2) \",compute_conditional_probabilites(A,\"F2\",\"S2\"))\n",
        "print(\"P(F=F2|S==S3) \",compute_conditional_probabilites(A,\"F2\",\"S3\"))\n",
        "\n",
        "print(\"=\"*25)\n",
        "\n",
        "print(\"P(F=F3|S==S1) \",compute_conditional_probabilites(A,\"F3\",\"S1\"))\n",
        "print(\"P(F=F3|S==S2) \",compute_conditional_probabilites(A,\"F3\",\"S2\"))\n",
        "print(\"P(F=F3|S==S3) \",compute_conditional_probabilites(A,\"F3\",\"S3\"))\n",
        "\n",
        "print(\"=\"*25)\n",
        "\n",
        "print(\"P(F=F4|S==S1) \",compute_conditional_probabilites(A,\"F4\",\"S1\"))\n",
        "print(\"P(F=F4|S==S2) \",compute_conditional_probabilites(A,\"F4\",\"S2\"))\n",
        "print(\"P(F=F4|S==S3) \",compute_conditional_probabilites(A,\"F4\",\"S3\"))\n",
        "\n",
        "print(\"=\"*25)\n",
        "\n",
        "print(\"P(F=F5|S==S1) \",compute_conditional_probabilites(A,\"F5\",\"S1\"))\n",
        "print(\"P(F=F5|S==S2) \",compute_conditional_probabilites(A,\"F5\",\"S2\"))\n",
        "print(\"P(F=F5|S==S3) \",compute_conditional_probabilites(A,\"F5\",\"S3\"))\n",
        "\n"
      ],
      "execution_count": 16,
      "outputs": [
        {
          "output_type": "stream",
          "text": [
            "P(F=F1|S==S1)  1/4\n",
            "P(F=F1|S==S2)  1/3\n",
            "P(F=F1|S==S3)  0/3\n",
            "=========================\n",
            "P(F=F2|S==S1)  1/4\n",
            "P(F=F2|S==S2)  1/3\n",
            "P(F=F2|S==S3)  1/3\n",
            "=========================\n",
            "P(F=F3|S==S1)  0/4\n",
            "P(F=F3|S==S2)  1/3\n",
            "P(F=F3|S==S3)  1/3\n",
            "=========================\n",
            "P(F=F4|S==S1)  1/4\n",
            "P(F=F4|S==S2)  0/3\n",
            "P(F=F4|S==S3)  1/3\n",
            "=========================\n",
            "P(F=F5|S==S1)  1/4\n",
            "P(F=F5|S==S2)  0/3\n",
            "P(F=F5|S==S3)  0/3\n"
          ],
          "name": "stdout"
        }
      ]
    },
    {
      "cell_type": "markdown",
      "metadata": {
        "id": "n4HS87QmB-lF",
        "colab_type": "text"
      },
      "source": [
        "<h3> Q9: Given two sentances S1, S2</h3>\n",
        "You will be given two sentances S1, S2 your task is to find \n",
        "<pre>\n",
        "a. Number of common words between S1, S2\n",
        "b. Words in S1 but not in S2\n",
        "c. Words in S2 but not in S1\n",
        "</pre>\n",
        "\n",
        "Ex: \n",
        "<pre>\n",
        "S1= \"the first column F will contain only 5 uniques values\"\n",
        "S2= \"the second column S will contain only 3 uniques values\"\n",
        "Output:\n",
        "a. 7\n",
        "b. ['first','F','5']\n",
        "c. ['second','S','3']\n",
        "</pre>"
      ]
    },
    {
      "cell_type": "code",
      "metadata": {
        "id": "Ez7hlHK0B-lG",
        "colab_type": "code",
        "colab": {
          "base_uri": "https://localhost:8080/",
          "height": 34
        },
        "outputId": "d650c884-5bbf-4238-f845-a70e4e4d6c7d"
      },
      "source": [
        "\n",
        "def string_features(S1, S2):\n",
        "    # your code\n",
        "    J1=S1.split()\n",
        "    J2=S2.split()\n",
        "    b=[]\n",
        "    c=[]    \n",
        "    a=0\n",
        "\n",
        "    \n",
        "    for e in J1:\n",
        "        \n",
        "        if e not in J2:\n",
        "            b.append(e)\n",
        "        else:\n",
        "            a+=1\n",
        "\n",
        "    for e in J2:\n",
        "        if e not in J1:\n",
        "            c.append(e)\n",
        "                \n",
        "        \n",
        "\n",
        "    return a, b, c\n",
        "\n",
        "S1= \"the first column F will contain only 5 uniques values\"\n",
        "S2= \"the second column S will contain only 3 uniques values\"\n",
        "a,b,c = string_features(S1, S2)\n",
        "print(a,b,c)"
      ],
      "execution_count": 17,
      "outputs": [
        {
          "output_type": "stream",
          "text": [
            "7 ['first', 'F', '5'] ['second', 'S', '3']\n"
          ],
          "name": "stdout"
        }
      ]
    },
    {
      "cell_type": "markdown",
      "metadata": {
        "id": "XefXVEjCB-lI",
        "colab_type": "text"
      },
      "source": [
        "<h3> Q10: Given two sentances S1, S2</h3>\n",
        "You will be given a list of lists, each sublist will be of length 2 i.e. [[x,y],[p,q],[l,m]..[r,s]]\n",
        "consider its like a martrix of n rows and two columns\n",
        "\n",
        "a. the first column Y will contain interger values <br>\n",
        "b. the second column $Y_{score}$ will be having float values <br>\n",
        "Your task is to find the value of $f(Y,Y_{score}) = -1*\\frac{1}{n}\\Sigma_{for each Y,Y_{score} pair}(Ylog10(Y_{score})+(1-Y)log10(1-Y_{score}))$ here n is the number of rows in the matrix\n",
        "<pre>\n",
        "Ex:\n",
        "[[1, 0.4], [0, 0.5], [0, 0.9], [0, 0.3], [0, 0.6], [1, 0.1], [1, 0.9], [1, 0.8]]\n",
        "output:\n",
        "0.4243099\n",
        "</pre>\n",
        "$\\frac{-1}{8}\\cdot((1\\cdot log_{10}(0.4)+0\\cdot log_{10}(0.6))+(0\\cdot log_{10}(0.5)+1\\cdot log_{10}(0.5)) + ... + (1\\cdot log_{10}(0.8)+0\\cdot log_{10}(0.2)) )$"
      ]
    },
    {
      "cell_type": "code",
      "metadata": {
        "id": "N9zkagyNB-lJ",
        "colab_type": "code",
        "colab": {
          "base_uri": "https://localhost:8080/",
          "height": 34
        },
        "outputId": "a2aca50e-d748-4ef9-fbfd-fcda4d31ca31"
      },
      "source": [
        "\n",
        "\n",
        "def compute_log_loss(A):\n",
        "    \n",
        "    summation=0\n",
        "    for e in A:\n",
        "        summation+=((e[0]*math.log(e[1],10))+(1-e[0])*math.log((1-e[1]),10))\n",
        "\n",
        "    loss=((-1)*summation)/len(A)\n",
        "    return loss\n",
        "\n",
        "A = [[1, 0.4], [0, 0.5], [0, 0.9], [0, 0.3], [0, 0.6], [1, 0.1], [1, 0.9], [1, 0.8]]\n",
        "loss = compute_log_loss(A)\n",
        "print(loss)"
      ],
      "execution_count": 18,
      "outputs": [
        {
          "output_type": "stream",
          "text": [
            "0.42430993457031635\n"
          ],
          "name": "stdout"
        }
      ]
    }
  ]
}