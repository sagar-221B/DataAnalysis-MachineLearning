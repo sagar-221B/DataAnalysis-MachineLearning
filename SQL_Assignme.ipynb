{
 "cells": [
  {
   "cell_type": "markdown",
   "metadata": {},
   "source": [
    "# SQL Assignment"
   ]
  },
  {
   "cell_type": "code",
   "execution_count": 2,
   "metadata": {},
   "outputs": [],
   "source": [
    "import pandas as pd\n",
    "import sqlite3"
   ]
  },
  {
   "cell_type": "code",
   "execution_count": 3,
   "metadata": {},
   "outputs": [],
   "source": [
    "conn = sqlite3.connect(\"Db-IMDB-Assignment.db\")"
   ]
  },
  {
   "cell_type": "markdown",
   "metadata": {},
   "source": [
    "## Sample Code"
   ]
  },
  {
   "cell_type": "code",
   "execution_count": 4,
   "metadata": {},
   "outputs": [
    {
     "name": "stdout",
     "output_type": "stream",
     "text": [
      "(85, 1)\n",
      "Wall time: 402 ms\n"
     ]
    }
   ],
   "source": [
    "%%time\n",
    "# Write your sql query below\n",
    "\n",
    "query = '''\n",
    "        SELECT TRIM(Movie.title) AS 'Movie_Name'\n",
    "        FROM Movie\n",
    "        WHERE Movie.rating < 3\n",
    "        '''\n",
    "        \n",
    "        \n",
    "\n",
    "q = pd.read_sql_query(query, conn)    \n",
    "print(q.shape)\n",
    "q.head()"
   ]
  },
  {
   "cell_type": "markdown",
   "metadata": {},
   "source": [
    "## Q1 --- List all the directors who directed a 'Comedy' movie in a leap year. (You need to check that the genre is 'Comedy’ and year is a leap year) Your query should return director name, the movie name, and the year."
   ]
  },
  {
   "cell_type": "code",
   "execution_count": 20,
   "metadata": {},
   "outputs": [
    {
     "name": "stdout",
     "output_type": "stream",
     "text": [
      "(232, 3)\n",
      "     director_name                         movie_name  _year\n",
      "0     Milap Zaveri                         Mastizaade   2016\n",
      "1     Danny Leiner  Harold & Kumar Go to White Castle   2004\n",
      "2   Anurag Kashyap                 Gangs of Wasseypur   2012\n",
      "3     Frank Coraci        Around the World in 80 Days   2004\n",
      "4    Griffin Dunne             The Accidental Husband   2008\n",
      "Wall time: 79 ms\n"
     ]
    }
   ],
   "source": [
    "%%time\n",
    "# Write your sql query below\n",
    "\n",
    "query = \"\"\"\n",
    "     \n",
    "       SELECT p.name AS director_name,m.title AS movie_name,(CAST(SUBSTR(TRIM(m.year),-4)AS INT)) AS _year\n",
    "       FROM  \n",
    "       movie m JOIN m_director d ON m.mid=d.mid \n",
    "       JOIN person p ON d.pid=p.pid  \n",
    "       WHERE((_year%4=0 AND _year%100<>0) \n",
    "       OR _year%400=0) \n",
    "       AND\n",
    "       m.mid IN (SELECT mg.mid from m_genre mg where mg.gid  \n",
    "       IN(SELECT g.gid FROM genre g WHERE TRIM(g.name) LIKE'%Comedy%'))  \n",
    " \n",
    "        \n",
    "        \n",
    "        \n",
    "        \n",
    "        \n",
    "        \n",
    "        \"\"\"\n",
    "\n",
    "q1 = pd.read_sql_query(query, conn)    \n",
    "print(q1.shape)\n",
    "#q1.head()\n",
    "print(q1.head())"
   ]
  },
  {
   "cell_type": "markdown",
   "metadata": {},
   "source": [
    "## Q2 --- List the names of all the actors who played in the movie 'Anand' (1971)"
   ]
  },
  {
   "cell_type": "code",
   "execution_count": 21,
   "metadata": {},
   "outputs": [
    {
     "name": "stdout",
     "output_type": "stream",
     "text": [
      "(17, 1)\n",
      "                Name\n",
      "0   Amitabh Bachchan\n",
      "1      Rajesh Khanna\n",
      "2      Sumita Sanyal\n",
      "3         Ramesh Deo\n",
      "4          Seema Deo\n",
      "Wall time: 24 ms\n"
     ]
    }
   ],
   "source": [
    "%%time\n",
    "# Write your sql query below\n",
    "\n",
    "query = \"\"\"\n",
    "       SELECT p.name FROM person p\n",
    "       WHERE TRIM(p.pid)\n",
    "       IN \n",
    "       (SELECT  TRIM(c.pid) FROM m_cast c WHERE TRIM(c.mid) \n",
    "       IN\n",
    "       (SELECT TRIM(m.mid) FROM movie m WHERE TRIM(m.title)='Anand'))\n",
    "       \n",
    "        \n",
    "        \"\"\"\n",
    "\n",
    "q2 = pd.read_sql_query(query, conn)    \n",
    "print(q2.shape)\n",
    "#q2.head()\n",
    "print(q2.head())"
   ]
  },
  {
   "cell_type": "markdown",
   "metadata": {},
   "source": [
    "## Q3 --- List all the actors who acted in a film before 1970 and in a film after 1990. (That is: < 1970 and > 1990.)"
   ]
  },
  {
   "cell_type": "code",
   "execution_count": 7,
   "metadata": {},
   "outputs": [
    {
     "name": "stdout",
     "output_type": "stream",
     "text": [
      "(300, 1)\n",
      "                Name\n",
      "0       Rishi Kapoor\n",
      "1   Amitabh Bachchan\n",
      "2             Asrani\n",
      "3       Zohra Sehgal\n",
      "4    Parikshat Sahni\n",
      "Wall time: 23.9 s\n"
     ]
    }
   ],
   "source": [
    "%%time\n",
    "# Write your sql query below\n",
    "\n",
    "query = \"\"\"\n",
    "    SELECT p.name FROM person p  WHERE TRIM(p.pid)\n",
    "      IN\n",
    "      ( SELECT trim(t1.pid) from\n",
    "    (SELECT DISTINCT(c1.pid)  from m_cast c1 where TRIM(c1.mid) IN (SELECT  TRIM(m.mid) FROM movie m \n",
    "      WHERE\n",
    "      cast(substr(trim(m.year),-4)as int) <1970 )) as t1\n",
    "      \n",
    "      join\n",
    "      \n",
    "      (SELECT DISTINCT(c2.pid) from m_cast c2 where TRIM(c2.mid) IN (SELECT  TRIM(m.mid) FROM movie m \n",
    "      WHERE\n",
    "      cast(substr(trim(m.year),-4)as int) >1990 )) as  t2\n",
    "      \n",
    "      ON TRIM(t1.pid)=TRIM(t2.pid))\n",
    "      \n",
    "      \n",
    "     \n",
    "        \n",
    "        \n",
    "        \"\"\"\n",
    "\n",
    "q3 = pd.read_sql_query(query, conn)    \n",
    "print(q3.shape)\n",
    "#q3.head()\n",
    "print(q3.head())"
   ]
  },
  {
   "cell_type": "markdown",
   "metadata": {},
   "source": [
    "## Q4 --- List all directors who directed 10 movies or more, in descending order of the number of movies they directed. Return the directors' names and the number of movies each of them directed."
   ]
  },
  {
   "cell_type": "code",
   "execution_count": 8,
   "metadata": {},
   "outputs": [
    {
     "name": "stdout",
     "output_type": "stream",
     "text": [
      "(58, 2)\n",
      "               Name  movie_count\n",
      "0      David Dhawan           39\n",
      "1      Mahesh Bhatt           35\n",
      "2   Ram Gopal Varma           30\n",
      "3      Priyadarshan           30\n",
      "4      Vikram Bhatt           29\n",
      "Wall time: 786 ms\n"
     ]
    }
   ],
   "source": [
    "%%time\n",
    "# Write your sql query below\n",
    "\n",
    "query = \"\"\"\n",
    "        SELECT p.name,t.movie_count\n",
    "        FROM \n",
    "        person p\n",
    "        JOIN \n",
    "        (SELECT COUNT(d.mid) movie_count,d.pid FROM m_director d GROUP BY d.pid\n",
    "        Having movie_count>=10 ) AS t \n",
    "        ON TRIM(p.pid)=TRIM(t.pid)\n",
    "        ORDER BY movie_count DESC\n",
    "        \n",
    "        \n",
    "        \"\"\"\n",
    "\n",
    "q4 = pd.read_sql_query(query, conn)    \n",
    "print(q4.shape)\n",
    "print(q4.head())"
   ]
  },
  {
   "cell_type": "markdown",
   "metadata": {},
   "source": [
    "## Q5.a --- For each year, count the number of movies in that year that had only female actors."
   ]
  },
  {
   "cell_type": "code",
   "execution_count": 22,
   "metadata": {},
   "outputs": [
    {
     "name": "stdout",
     "output_type": "stream",
     "text": [
      "(4, 2)\n",
      "     year  COUNT(m.mid)\n",
      "0    1939             1\n",
      "1    1999             1\n",
      "2    2000             1\n",
      "3  I 2018             1\n",
      "Wall time: 93 ms\n"
     ]
    }
   ],
   "source": [
    "%%time\n",
    "# Write your sql query below\n",
    "\n",
    "query = \"\"\"\n",
    "        SELECT m.year,COUNT(m.mid) FROM movie m \n",
    "        WHERE TRIM(m.mid) NOT IN \n",
    "        (SELECT Distinct(TRIM(c.mid)) FROM m_cast c \n",
    "        WHERE (c.pid IS NULL \n",
    "        OR\n",
    "        TRIM(c.pid) IN \n",
    "        (SELECT TRIM(p.pid) FROM person p\n",
    "        WHERE TRIM(p.gender) <>'Female'  or TRIM(p.gender) IS NULL)))\n",
    "        GROUP BY cast(substr(trim(m.year),-4)as int) \n",
    "       \n",
    "        \n",
    "        \"\"\"\n",
    "\n",
    "q5a = pd.read_sql_query(query, conn)    \n",
    "print(q5a.shape)\n",
    "print(q5a.head())"
   ]
  },
  {
   "cell_type": "markdown",
   "metadata": {},
   "source": [
    "## Q5.b --- Now include a small change: report for each year the percentage of movies in that year with only female actors, and the total number of movies made that year. For example, one answer will be: 1990 31.81 13522 meaning that in 1990 there were 13,522 movies, and 31.81% had only female actors. You do not need to round your answer."
   ]
  },
  {
   "cell_type": "code",
   "execution_count": 23,
   "metadata": {},
   "outputs": [
    {
     "name": "stdout",
     "output_type": "stream",
     "text": [
      "(4, 3)\n",
      "   year  total_movies  perc_onlyFemalemovie\n",
      "0  1939             2             50.000000\n",
      "1  1999            66              1.515152\n",
      "2  2000            64              1.562500\n",
      "3  2018           104              0.961538\n",
      "Wall time: 100 ms\n"
     ]
    }
   ],
   "source": [
    "%%time\n",
    "# Write your sql query below\n",
    "\n",
    "query = \"\"\"\n",
    "      SELECT m1.year,count(m1.mid) total_movies,(((y.q*1.0)/(count(m1.mid)*1.0))*100) perc_onlyFemalemovie FROM\n",
    "       movie m1  join \n",
    "       (SELECT m.year,COUNT(m.mid) q FROM movie m \n",
    "        WHERE TRIM(m.mid) NOT IN \n",
    "        (SELECT Distinct(TRIM(c.mid)) FROM m_cast c \n",
    "        WHERE (c.pid IS NULL \n",
    "        OR\n",
    "        TRIM(c.pid) IN \n",
    "        (SELECT TRIM(p.pid) FROM person p\n",
    "        WHERE TRIM(p.gender) <>'Female'  or TRIM(p.gender) IS NULL)))\n",
    "        GROUP BY cast(substr(trim(m.year),-4)as int)) y \n",
    "        on cast(substr(trim(m1.year),-4)as int)=cast(substr(trim(y.year),-4)as int)\n",
    "        \n",
    "        GROUP BY cast(substr(trim(m1.year),-4)as int)\n",
    "        \n",
    "        \n",
    "        \n",
    "        \"\"\"\n",
    "\n",
    "\n",
    "q5b = pd.read_sql_query(query, conn)    \n",
    "print(q5b.shape)\n",
    "print(q5b.head())"
   ]
  },
  {
   "cell_type": "markdown",
   "metadata": {},
   "source": [
    "## Q6 --- Find the film(s) with the largest cast. Return the movie title and the size of the cast. By \"cast size\" we mean the number of distinct actors that played in that movie: if an actor played multiple roles, or if it simply occurs multiple times in casts, we still count her/him only once."
   ]
  },
  {
   "cell_type": "code",
   "execution_count": 24,
   "metadata": {},
   "outputs": [
    {
     "name": "stdout",
     "output_type": "stream",
     "text": [
      "(1, 2)\n",
      "           title  cast_size\n",
      "0  Ocean's Eight        238\n",
      "Wall time: 161 ms\n"
     ]
    }
   ],
   "source": [
    "%%time\n",
    "# Write your sql query below\n",
    "\n",
    "query = \"\"\"\n",
    "    SELECT m.title,t.cast_size FROM movie m\n",
    "       JOIN\n",
    "    \n",
    "       (SELECT COUNT(DISTINCT(c.pid)) cast_size,c.mid FROM m_cast c GROUP BY TRIM(c.mid)\n",
    "      HAVING cast_size=(select max(j.mp) from\n",
    "       (SELECT COUNT(DISTINCT(pid)) mp FROM m_cast GROUP BY mid)j))t\n",
    "       \n",
    "       ON TRIM(m.mid)=TRIM(t.mid)\n",
    "        \"\"\"\n",
    "\n",
    "q6 = pd.read_sql_query(query, conn)    \n",
    "print(q6.shape)\n",
    "print(q6.head())"
   ]
  },
  {
   "cell_type": "markdown",
   "metadata": {},
   "source": [
    "## Q7 --- A decade is a sequence of 10 consecutive years. For example, say in your database you have movie information starting from 1965. Then the first decade is 1965, 1966, ..., 1974; the second one is 1967, 1968, ..., 1976 and so on. Find the decade D with the largest number of films and the total number of films in D."
   ]
  },
  {
   "cell_type": "code",
   "execution_count": 25,
   "metadata": {},
   "outputs": [
    {
     "name": "stdout",
     "output_type": "stream",
     "text": [
      "(1, 3)\n",
      "   total_movies  decade_start  decade_end\n",
      "0          1128          2008        2017\n",
      "Wall time: 97 ms\n"
     ]
    }
   ],
   "source": [
    "%%time\n",
    "# Write your sql query below\n",
    "\n",
    "query = \"\"\"\n",
    "\n",
    "        Select count(x.yr) total_movies,x.yr  decade_start,x.yr+9 decade_end \n",
    "\n",
    "        FROM movie m \n",
    "\n",
    "        JOIN  \n",
    "\n",
    "         \n",
    "\n",
    "        (select DISTINCT(cast(substr(trim(year),-4)as int)) yr from movie )x \n",
    "\n",
    "        ON cast(substr(trim(m.year),-4)as int)>=x.yr AND m.year<=x.yr+9 \n",
    "\n",
    "        GROUP BY x.yr \n",
    "\n",
    "        order by total_movies DESC \n",
    "\n",
    "        LIMIT 1 \n",
    "        \n",
    "        \"\"\"\n",
    "#select DISTINCT(cast(substr(trim(year),-4)as int)) yr from movie order by yr desc\n",
    "q7 = pd.read_sql_query(query, conn)    \n",
    "print(q7.shape)\n",
    "print(q7)"
   ]
  },
  {
   "cell_type": "markdown",
   "metadata": {},
   "source": [
    "## Q8 --- Find all the actors that made more movies with Yash Chopra than any other director."
   ]
  },
  {
   "cell_type": "code",
   "execution_count": 26,
   "metadata": {},
   "outputs": [
    {
     "name": "stdout",
     "output_type": "stream",
     "text": [
      "(245, 1)\n",
      "               Name\n",
      "0     Sharib Hashmi\n",
      "1   Kulbir Badesron\n",
      "2       Gurdas Maan\n",
      "3   Parikshat Sahni\n",
      "4     Claire Ashton\n",
      "Wall time: 107 ms\n"
     ]
    }
   ],
   "source": [
    "%%time\n",
    "# Write your sql query below\n",
    "\n",
    "query = \"\"\"  \n",
    "    \n",
    "    SELECT name FROM person p\n",
    "    WHERE TRIM(pid) IN\n",
    "    (\n",
    "   SELECT TRIM(YRF.yactors) FROM\n",
    "    (\n",
    "     SELECT  count(m.mid)ymovies,TRIM(m.pid) yactors FROM m_cast m\n",
    "       WHERE TRIM(m.mid) IN\n",
    "       (\n",
    "       SELECT TRIM(d.mid) FROM m_director d\n",
    "       WHERE TRIM(d.pid) =\n",
    "       (\n",
    "       SELECT TRIM(p.pid) FROM person p\n",
    "       WHERE TRIM(p.name)='Yash Chopra'\n",
    "       )\n",
    "       )\n",
    "       group by trim(m.pid)\n",
    "    )YRF\n",
    "    \n",
    "    \n",
    "    \n",
    "     LEFT JOIN\n",
    "    \n",
    "    (\n",
    "    SELECT max(other.otherdirector)nonyashmoviecount,other.otherperson nonyashactor\n",
    "    FROM\n",
    "    (\n",
    "       SELECT count(x.nymovies)otherdirector,x.nyperson otherperson FROM \n",
    "         (\n",
    "         SELECT DISTINCT\n",
    "     TRIM(m1.mid) nymovies,TRIM(m1.pid) nyperson FROM m_cast m1\n",
    "     WHERE TRIM(m1.PID) IN\n",
    "     (\n",
    "     \n",
    "     SELECT  DISTINCT(TRIM(m.pid)) yactors FROM m_cast m\n",
    "       WHERE TRIM(m.mid) IN\n",
    "       (\n",
    "       SELECT DISTINCT(TRIM(d.mid)) FROM m_director d\n",
    "       WHERE TRIM(d.pid) =\n",
    "       (\n",
    "       SELECT TRIM(p.pid) FROM person p\n",
    "       WHERE TRIM(p.name)='Yash Chopra'\n",
    "       )\n",
    "       )\n",
    "       )\n",
    "       AND m1.PID IS NOT NULL\n",
    "       ) x\n",
    "       \n",
    "       JOIN m_director d1\n",
    "       \n",
    "       ON x.nymovies=TRIM(d1.mid)\n",
    "       \n",
    "       where TRIM(d1.pid)!=(\n",
    "       SELECT TRIM(p.pid) FROM person p\n",
    "       WHERE TRIM(p.name)='Yash Chopra'\n",
    "       )\n",
    "       \n",
    "       GROUP BY x.nyperson,TRIM(d1.pid)\n",
    "      \n",
    "      )other\n",
    "      GROUP BY other.otherperson\n",
    "      )NYRF\n",
    "    \n",
    "      ON  YRF.yactors=NYRF.nonyashactor\n",
    "      \n",
    "     WHERE YRF.ymovies>=NYRF.nonyashmoviecount OR NYRF.nonyashmoviecount IS NULL\n",
    "     \n",
    "     )\n",
    "       \n",
    " \n",
    "             \n",
    "            \n",
    "\n",
    "        \n",
    "        \"\"\"\n",
    "#GROUP BY TRIM(m.pid)\n",
    "#       order by ymovies desc\n",
    "q8 = pd.read_sql_query(query, conn)    \n",
    "print(q8.shape)\n",
    "print(q8.head())"
   ]
  },
  {
   "cell_type": "markdown",
   "metadata": {},
   "source": [
    "## Q9 --- The Shahrukh number of an actor is the length of the shortest path between the actor and Shahrukh Khan in the \"co-acting\" graph. That is, Shahrukh Khan has Shahrukh number 0; all actors who acted in the same film as Shahrukh have Shahrukh number 1; all actors who acted in the same film as some actor with Shahrukh number 1 have Shahrukh number 2, etc. Return all actors whose Shahrukh number is 2."
   ]
  },
  {
   "cell_type": "code",
   "execution_count": 27,
   "metadata": {},
   "outputs": [
    {
     "name": "stdout",
     "output_type": "stream",
     "text": [
      "(25698, 1)\n",
      "                     Name\n",
      "0            Freida Pinto\n",
      "1             Rohan Chand\n",
      "2            Damian Young\n",
      "3         Waris Ahluwalia\n",
      "4   Caroline Christl Long\n",
      "Wall time: 268 ms\n"
     ]
    }
   ],
   "source": [
    "%%time\n",
    "# Write your sql query below\n",
    "\n",
    "query = \"\"\"\n",
    "    \n",
    "     \n",
    "     SELECT p.name from person p\n",
    "     WHERE TRIM(p.pid) IN\n",
    "     (SELECT DISTINCT(TRIM(c4.pid)) s2 FROM m_cast c4\n",
    "     WHERE TRIM(c4.mid) IN \n",
    "     \n",
    "     (SELECT DISTINCT(TRIM(c3.mid)) FROM m_cast c3\n",
    "     WHERE TRIM(c3.pid) IN\n",
    "     \n",
    "     \n",
    "    (SELECT DISTINCT(TRIM(c2.pid)) s1 FROM m_cast c2\n",
    "             WHERE c2.mid  IN\n",
    "     \n",
    "     \n",
    "     (SELECT DISTINCT(TRIM(c1.mid)) FROM m_cast c1 WHERE \n",
    "             TRIM(c1.pid)=\n",
    "     \n",
    "     (SELECT TRIM(pid)t FROM  person where TRIM(name)='Shah Rukh Khan') AND c1.mid IS NOT NULL)\n",
    "     \n",
    "     AND TRIM(c2.pid)!=(SELECT TRIM(pid)t FROM  person where TRIM(name)='Shah Rukh Khan') AND c2.pid IS NOT NULL)\n",
    "     \n",
    "     \n",
    "     \n",
    "     AND TRIM(c3.mid) NOT IN (SELECT DISTINCT(TRIM(c1.mid)) FROM m_cast c1 WHERE \n",
    "             TRIM(c1.pid)=\n",
    "     \n",
    "     (SELECT TRIM(pid)t FROM  person where TRIM(name)='Shah Rukh Khan')) AND c3.MID IS NOT NULL)\n",
    "     \n",
    "     \n",
    "     \n",
    "     AND TRIM(c4.pid) NOT IN\n",
    "     \n",
    "     (SELECT DISTINCT(TRIM(c2.pid)) s1 FROM m_cast c2\n",
    "             WHERE c2.mid  IN\n",
    "     \n",
    "     \n",
    "     (SELECT DISTINCT(TRIM(c1.mid)) FROM m_cast c1 WHERE \n",
    "             TRIM(c1.pid)=\n",
    "     \n",
    "     (SELECT TRIM(pid)t FROM  person where TRIM(name)='Shah Rukh Khan'))\n",
    "     \n",
    "     AND TRIM(c2.pid)!=(SELECT TRIM(pid)t FROM  person where TRIM(name)='Shah Rukh Khan')))\n",
    "     \n",
    "     \n",
    "     \n",
    "    \n",
    "     \n",
    "     \n",
    "            \n",
    "             \n",
    "        \n",
    "        \"\"\"\n",
    "\n",
    "  \n",
    "\n",
    "q9 = pd.read_sql_query(query, conn)    \n",
    "print(q9.shape)\n",
    "print(q9.head())"
   ]
  }
 ],
 "metadata": {
  "kernelspec": {
   "display_name": "Python 3",
   "language": "python",
   "name": "python3"
  },
  "language_info": {
   "codemirror_mode": {
    "name": "ipython",
    "version": 3
   },
   "file_extension": ".py",
   "mimetype": "text/x-python",
   "name": "python",
   "nbconvert_exporter": "python",
   "pygments_lexer": "ipython3",
   "version": "3.6.5"
  }
 },
 "nbformat": 4,
 "nbformat_minor": 2
}
