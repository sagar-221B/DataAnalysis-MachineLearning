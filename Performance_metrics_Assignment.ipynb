{
 "cells": [
  {
   "cell_type": "markdown",
   "metadata": {
    "colab_type": "text",
    "id": "s0Ej_bXyQvnV"
   },
   "source": [
    "# Compute performance metrics for the given Y and Y_score without sklearn"
   ]
  },
  {
   "cell_type": "code",
   "execution_count": 132,
   "metadata": {
    "colab": {},
    "colab_type": "code",
    "id": "4CHb6NE7Qvnc"
   },
   "outputs": [],
   "source": [
    "import numpy as np\n",
    "import pandas as pd\n",
    "# other than these two you should not import any other packages"
   ]
  },
  {
   "cell_type": "markdown",
   "metadata": {
    "colab_type": "text",
    "id": "KbsWXuDaQvnq"
   },
   "source": [
    "<pre>\n",
    "<font color='red'><b>A.</b></font> Compute performance metrics for the given data <strong>5_a.csv</strong>\n",
    "   <b>Note 1:</b> in this data you can see number of positive points >> number of negatives points\n",
    "   <b>Note 2:</b> use pandas or numpy to read the data from <b>5_a.csv</b>\n",
    "   <b>Note 3:</b> you need to derive the class labels from given score</pre> $y^{pred}= \\text{[0 if y_score < 0.5 else 1]}$\n",
    "\n",
    "<pre>\n",
    "<ol>\n",
    "<li> Compute Confusion Matrix </li>\n",
    "<li> Compute F1 Score </li>\n",
    "<li> Compute AUC Score, you need to compute different thresholds and for each threshold compute tpr,fpr and then use               numpy.trapz(tpr_array, fpr_array) <a href='https://stackoverflow.com/q/53603376/4084039'>https://stackoverflow.com/q/53603376/4084039</a>, <a href='https://stackoverflow.com/a/39678975/4084039'>https://stackoverflow.com/a/39678975/4084039</a> Note: it should be numpy.trapz(tpr_array, fpr_array) not numpy.trapz(fpr_array, tpr_array)</li>\n",
    "<li> Compute Accuracy Score </li>\n",
    "</ol>\n",
    "</pre>"
   ]
  },
  {
   "cell_type": "code",
   "execution_count": 133,
   "metadata": {},
   "outputs": [],
   "source": [
    "#This function calculates the TN,FN,TP,FP\n",
    "def confusion(a,b,DATA):\n",
    "    x1=DATA[(DATA['y-pred']==b) & (DATA['y']==a)]['y'].count()\n",
    "    return x1"
   ]
  },
  {
   "cell_type": "code",
   "execution_count": 135,
   "metadata": {},
   "outputs": [],
   "source": [
    "#This function calculates the F1 Sscore\n",
    "def F1(Pr,Re):\n",
    "    F=2*((Pr*Re)/(Pr+Re))\n",
    "    return F"
   ]
  },
  {
   "cell_type": "code",
   "execution_count": 136,
   "metadata": {
    "colab": {},
    "colab_type": "code",
    "id": "WaFLW7oBQvnt"
   },
   "outputs": [
    {
     "name": "stdout",
     "output_type": "stream",
     "text": [
      "Confusion Matrix \n",
      " [[    0     0]\n",
      " [  100 10000]]\n",
      "==================================================\n",
      "F1Score  \n",
      " 0.9950248756218906\n",
      "==================================================\n",
      "Accuracy \n",
      " 0.9900990099009901\n",
      "==================================================\n",
      "AUC \n",
      " 0.48829900000000004\n"
     ]
    }
   ],
   "source": [
    "# This section computes the Confusion Matrix by calling the function confusion\n",
    "dt=pd.read_csv(\"5_a.csv\")\n",
    "\n",
    "a = np.array(dt['proba'].values.tolist()) # converting the column proba to a numpy array for generating the binary labels \n",
    "j = np.where(a >= 0.5, 1, 0).tolist() # predicted value >=0.5 1 else 0\n",
    "\n",
    "\n",
    "df=pd.DataFrame(j,columns=['y-pred']) \n",
    "\n",
    "\n",
    "data=pd.concat([dt,df],axis=1)\n",
    "\n",
    "\n",
    "l1=[]\n",
    "l2=[]\n",
    "TN=confusion(0,0,data)\n",
    "l1.append(TN)\n",
    "FN=confusion(1,0,data)\n",
    "l1.append(FN)\n",
    "FP=confusion(0,1,data)\n",
    "l2.append(FP)\n",
    "TP=confusion(1,1,data)\n",
    "l2.append(TP)\n",
    "\n",
    "n=np.matrix([l1,l2])\n",
    "print(\"Confusion Matrix \\n\",n)\n",
    "print(\"=\"*50)\n",
    "\n",
    "#*****************************************************************************************\n",
    "#This section computes the F1 score by calling the function F1\n",
    "\n",
    "P=data[data['y']==1]['y'].count()\n",
    "N=data[data['y']==0]['y'].count()\n",
    "Recall=TP/P\n",
    "\n",
    "Precision=TP/(TP+FP)\n",
    "\n",
    "F1Score=F1(Precision,Recall)\n",
    "print(\"F1Score  \\n\",F1Score)\n",
    "print(\"=\"*50)\n",
    "\n",
    "#*****************************************************************************************\n",
    "#This section computes the accuracy\n",
    "\n",
    "Accuracy=(TP+TN)/(TP+FP+TN+FN)\n",
    "print(\"Accuracy \\n\",Accuracy)\n",
    "print(\"=\"*50)\n",
    "\n",
    "#*****************************************************************************************\n",
    "#This section computes the Area Under The Curve for ROC \n",
    "\n",
    "r=np.unique(data['proba'].values)\n",
    "data=data.sort_values('proba',ascending=False)\n",
    "\n",
    "q=-np.sort(-r,axis=0) #Sorting thresholds in descending order\n",
    "\n",
    "TPR=[]\n",
    "FPR=[]\n",
    "for e in q:\n",
    "    \n",
    "    z1=(data['proba']>=e) & (data['y']==1) #Generating True Positives\n",
    "    tp=z1[z1==True].count()\n",
    "    \n",
    "    z2=(data['proba']>=e) & (data['y']==0) #Generating False Positives\n",
    "    fp=z2[z2==True].count()\n",
    "    \n",
    "                \n",
    "        \n",
    "    \n",
    "    TPR.append(tp/P)\n",
    "    FPR.append(fp/N)\n",
    "auc=np.trapz(TPR,FPR)\n",
    "\n",
    "print(\"AUC \\n\",auc)\n",
    "    \n",
    "    "
   ]
  },
  {
   "cell_type": "code",
   "execution_count": 127,
   "metadata": {},
   "outputs": [
    {
     "data": {
      "image/png": "[encoded data removed]",
      "text/plain": [
       "<Figure size 432x288 with 1 Axes>"
      ]
     },
     "metadata": {},
     "output_type": "display_data"
    }
   ],
   "source": [
    "#ROC for 5_a.csv\n",
    "import matplotlib.pyplot as plt\n",
    "\n",
    "\n",
    "plt.plot(FPR,TPR)\n",
    "plt.xlabel(\"FPR\")\n",
    "plt.ylabel(\"TPR\")\n",
    "plt.title('ROC Curve')\n",
    "plt.show()"
   ]
  },
  {
   "cell_type": "markdown",
   "metadata": {
    "colab_type": "text",
    "id": "V5KZem1BQvn2"
   },
   "source": [
    "<pre>\n",
    "<font color='red'><b>B.</b></font> Compute performance metrics for the given data <strong>5_b.csv</strong>\n",
    "   <b>Note 1:</b> in this data you can see number of positive points << number of negatives points\n",
    "   <b>Note 2:</b> use pandas or numpy to read the data from <b>5_b.csv</b>\n",
    "   <b>Note 3:</b> you need to derive the class labels from given score</pre> $y^{pred}= \\text{[0 if y_score < 0.5 else 1]}$\n",
    "\n",
    "<pre>\n",
    "<ol>\n",
    "<li> Compute Confusion Matrix </li>\n",
    "<li> Compute F1 Score </li>\n",
    "<li> Compute AUC Score, you need to compute different thresholds and for each threshold compute tpr,fpr and then use               numpy.trapz(tpr_array, fpr_array) <a href='https://stackoverflow.com/q/53603376/4084039'>https://stackoverflow.com/q/53603376/4084039</a>, <a href='https://stackoverflow.com/a/39678975/4084039'>https://stackoverflow.com/a/39678975/4084039</a></li>\n",
    "<li> Compute Accuracy Score </li>\n",
    "</ol>\n",
    "</pre>"
   ]
  },
  {
   "cell_type": "code",
   "execution_count": 137,
   "metadata": {
    "colab": {},
    "colab_type": "code",
    "id": "U2sKlq0YQvn5"
   },
   "outputs": [
    {
     "name": "stdout",
     "output_type": "stream",
     "text": [
      "Confusion Matrix \n",
      " [[9761   45]\n",
      " [ 239   55]]\n",
      "==================================================\n",
      "F1Score  \n",
      " 0.2791878172588833\n",
      "==================================================\n",
      "Accuracy \n",
      " 0.9718811881188119\n",
      "==================================================\n",
      "AUC \n",
      " 0.9377570000000001\n"
     ]
    }
   ],
   "source": [
    "# This section computes the Confusion Matrix by calling the function confusion\n",
    "dt=pd.read_csv(\"5_b.csv\")\n",
    "\n",
    "a = np.array(dt['proba'].values.tolist()) # converting the column proba to a numpy array for generating the binary labels \n",
    "j = np.where(a >= 0.5, 1, 0).tolist()     # predicted value >=0.5 1 else 0\n",
    "\n",
    "\n",
    "df=pd.DataFrame(j,columns=['y-pred'])\n",
    "\n",
    "\n",
    "data=pd.concat([dt,df],axis=1)\n",
    "\n",
    "\n",
    "l1=[]\n",
    "l2=[]\n",
    "TN=confusion(0,0,data)\n",
    "l1.append(TN)\n",
    "FN=confusion(1,0,data)\n",
    "l1.append(FN)\n",
    "FP=confusion(0,1,data)\n",
    "l2.append(FP)\n",
    "TP=confusion(1,1,data)\n",
    "l2.append(TP)\n",
    "\n",
    "n=np.matrix([l1,l2])\n",
    "print(\"Confusion Matrix \\n\",n)\n",
    "print(\"=\"*50)\n",
    "\n",
    "#*****************************************************************************************\n",
    "#This section computes the F1 score by calling the function F1\n",
    "\n",
    "P=data[data['y']==1]['y'].count()\n",
    "N=data[data['y']==0]['y'].count()\n",
    "Recall=TP/P\n",
    "\n",
    "Precision=TP/(TP+FP)\n",
    "\n",
    "F1Score=F1(Precision,Recall)\n",
    "print(\"F1Score  \\n\",F1Score)\n",
    "print(\"=\"*50)\n",
    "\n",
    "#*****************************************************************************************\n",
    "#This section computes the accuracy\n",
    "\n",
    "Accuracy=(TP+TN)/(TP+FP+TN+FN)\n",
    "print(\"Accuracy \\n\",Accuracy)\n",
    "print(\"=\"*50)\n",
    "\n",
    "#*****************************************************************************************\n",
    "#This section computes the Area Under The Curve for ROC \n",
    "r=np.unique(data['proba'].values)\n",
    "data=data.sort_values('proba',ascending=False)\n",
    "\n",
    "q=-np.sort(-r,axis=0) #Sorting thresholds in descending order\n",
    "\n",
    "TPR=[]\n",
    "FPR=[]\n",
    "for e in q:\n",
    "    \n",
    "    z1=(data['proba']>=e) & (data['y']==1) #Generating True Positives\n",
    "    tp=z1[z1==True].count()\n",
    "    \n",
    "    z2=(data['proba']>=e) & (data['y']==0) #Generating False Positives\n",
    "    fp=z2[z2==True].count()\n",
    "    \n",
    "                \n",
    "        \n",
    "    \n",
    "    TPR.append(tp/P)\n",
    "    FPR.append(fp/N)\n",
    "auc=np.trapz(TPR,FPR)\n",
    "print(\"AUC \\n\",auc)"
   ]
  },
  {
   "cell_type": "code",
   "execution_count": 129,
   "metadata": {},
   "outputs": [
    {
     "data": {
      "image/png": "[encoded data removed]",
      "text/plain": [
       "<Figure size 432x288 with 1 Axes>"
      ]
     },
     "metadata": {},
     "output_type": "display_data"
    }
   ],
   "source": [
    "#ROC for 5_b.csv\n",
    "import matplotlib.pyplot as plt\n",
    "\n",
    "\n",
    "plt.plot(FPR,TPR)\n",
    "plt.xlabel(\"FPR\")\n",
    "plt.ylabel(\"TPR\")\n",
    "plt.title('ROC Curve')\n",
    "plt.show()"
   ]
  },
  {
   "cell_type": "markdown",
   "metadata": {
    "colab_type": "text",
    "id": "GiPGonTzQvoB"
   },
   "source": [
    "<font color='red'><b>C.</b></font> Compute the best threshold (similarly to ROC curve computation) of probability which gives lowest values of metric <b>A</b> for the given data <strong>5_c.csv</strong>\n",
    "<br>\n",
    "\n",
    "you will be predicting label of a data points like this: $y^{pred}= \\text{[0 if y_score < threshold  else 1]}$\n",
    "\n",
    "$ A = 500 \\times \\text{number of false negative} + 100 \\times \\text{numebr of false positive}$\n",
    "\n",
    "<pre>\n",
    "   <b>Note 1:</b> in this data you can see number of negative points > number of positive points\n",
    "   <b>Note 2:</b> use pandas or numpy to read the data from <b>5_c.csv</b>\n",
    "</pre>"
   ]
  },
  {
   "cell_type": "code",
   "execution_count": 130,
   "metadata": {
    "colab": {},
    "colab_type": "code",
    "id": "x5HIJzq1QvoE"
   },
   "outputs": [
    {
     "name": "stdout",
     "output_type": "stream",
     "text": [
      "Best Threshold \n",
      " 0.2300390278970873\n",
      "==================================================\n"
     ]
    }
   ],
   "source": [
    "#This section computes the best threshold for metrics A\n",
    "\n",
    "dt=pd.read_csv(\"5_c.csv\")\n",
    "n=np.unique(dt['prob'].values)\n",
    "\n",
    "q=-np.sort(-n,axis=0) #Sorting thresholds in descending order\n",
    "dt=dt.sort_values('prob',ascending=False)\n",
    "dict={}\n",
    "\n",
    "for e in q: #iterating thresholds\n",
    "    fn=0\n",
    "    fp=0\n",
    "    z1=(dt['prob']<e) & (dt['y']==1) #calculating False Negatives\n",
    "    fn=z1[z1==True].count()\n",
    "    \n",
    "    z2=(dt['prob']>=e) & (dt['y']==0) #calculating False Positives\n",
    "    fp=z2[z2==True].count()\n",
    "    \n",
    "    A=(500*fn)+(100*fp)\n",
    "    dict[e]=A\n",
    "    \n",
    "k=min(dict, key=dict.get)\n",
    "print(\"Best Threshold \\n\",k)\n",
    "print(\"=\"*50)"
   ]
  },
  {
   "cell_type": "markdown",
   "metadata": {
    "colab_type": "text",
    "id": "sD4CcgjXQvoL"
   },
   "source": [
    "<pre>\n",
    "<font color='red'><b>D.</b></font> Compute performance metrics(for regression) for the given data <strong>5_d.csv</strong>\n",
    "    <b>Note 2:</b> use pandas or numpy to read the data from <b>5_d.csv</b>\n",
    "    <b>Note 1:</b> <b>5_d.csv</b> will having two columns Y and predicted_Y both are real valued features\n",
    "<ol>\n",
    "<li> Compute Mean Square Error </li>\n",
    "<li> Compute MAPE: https://www.youtube.com/watch?v=ly6ztgIkUxk</li>\n",
    "<li> Compute R^2 error: https://en.wikipedia.org/wiki/Coefficient_of_determination#Definitions </li>\n",
    "</ol>\n",
    "</pre>"
   ]
  },
  {
   "cell_type": "code",
   "execution_count": 131,
   "metadata": {},
   "outputs": [
    {
     "name": "stdout",
     "output_type": "stream",
     "text": [
      "Mean Square Error \n",
      " 177.16569974554707\n",
      "==================================================\n",
      "Mean Absolute Percentage Error \n",
      " 0.1291202994009687\n",
      "==================================================\n",
      " R^2 Error \n",
      " 0.9563582786990937\n"
     ]
    }
   ],
   "source": [
    "#This section computes the Mean Square Error\n",
    "\n",
    "dataf=pd.read_csv(\"5_d.csv\")\n",
    "\n",
    "dataf['y-yPred']=dataf['y']-dataf['pred'] #calculating actual - predicted\n",
    "\n",
    "dataf['y-yPredSquared']=dataf['y-yPred']*dataf['y-yPred'] #calculating (actual-predicted)^2\n",
    "\n",
    "S=dataf['y-yPredSquared'].sum() #SSResidual\n",
    "n=dataf['y'].count()\n",
    "MSE=S/n\n",
    "print(\"Mean Square Error \\n\",MSE)\n",
    "print(\"=\"*50)\n",
    "\n",
    "#*****************************************************************************************\n",
    "#This section computes the Mean Absolute Percentage Error\n",
    "\n",
    "a=dataf['y'].sum()\n",
    "dataf['y-yPred']=dataf['y-yPred'].abs()\n",
    "\n",
    "ei=dataf['y-yPred'].sum()\n",
    "MAPE=ei/a\n",
    "print(\"Mean Absolute Percentage Error \\n\",MAPE)\n",
    "print(\"=\"*50)\n",
    "\n",
    "#*****************************************************************************************\n",
    "#This section computes the R^2 error\n",
    "\n",
    "ymean=(dataf['y'].sum())/dataf['y'].count()\n",
    "\n",
    "dataf['y']=(dataf['y']-ymean)*(dataf['y']-ymean)\n",
    "\n",
    "SSTotal=dataf['y'].sum()\n",
    "\n",
    "RSquare=1-(S/SSTotal)\n",
    "print(\" R^2 Error \\n\",RSquare)"
   ]
  }
 ],
 "metadata": {
  "colab": {
   "collapsed_sections": [],
   "name": "5_Performance_metrics_Instructions.ipynb",
   "provenance": []
  },
  "kernelspec": {
   "display_name": "Python 3",
   "language": "python",
   "name": "python3"
  },
  "language_info": {
   "codemirror_mode": {
    "name": "ipython",
    "version": 3
   },
   "file_extension": ".py",
   "mimetype": "text/x-python",
   "name": "python",
   "nbconvert_exporter": "python",
   "pygments_lexer": "ipython3",
   "version": "3.6.5"
  }
 },
 "nbformat": 4,
 "nbformat_minor": 1
}
